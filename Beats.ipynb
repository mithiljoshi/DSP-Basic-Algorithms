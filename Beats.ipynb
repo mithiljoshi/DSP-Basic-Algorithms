{
 "cells": [
  {
   "cell_type": "markdown",
   "metadata": {},
   "source": [
    "**Exploring Beat Frequencies**\n",
    "\n",
    "we will play with close frequencies and hear the beatings created by intermodulation."
   ]
  },
  {
   "cell_type": "code",
   "execution_count": 1,
   "metadata": {},
   "outputs": [],
   "source": [
    "%matplotlib inline\n",
    "import matplotlib.pyplot as plt\n",
    "import numpy as np\n",
    "from IPython.display import Audio, display\n",
    "\n",
    "# interactivity here:\n",
    "from ipywidgets import interact, interactive, fixed, interact_manual\n",
    "import ipywidgets as widgets\n",
    "\n",
    "plt.rcParams[\"figure.figsize\"]=(14,4)"
   ]
  },
  {
   "cell_type": "markdown",
   "metadata": {},
   "source": [
    "Let's define a simple fucntion that generates, plots and plays two sinusoids at given frequencies"
   ]
  },
  {
   "cell_type": "code",
   "execution_count": 2,
   "metadata": {},
   "outputs": [],
   "source": [
    "def beat_freq(f1 = 220.0, f2 = 224.0):\n",
    "    # the clock of the system\n",
    "    LEN = 4 #seconds\n",
    "    Fs = 8000.0\n",
    "    n = np.arange(0, int(LEN*Fs))\n",
    "    s = np.cos(2*np.pi*f1/Fs *n)+np.cos(2*np.pi*f2/Fs*n)\n",
    "    # start from the first null of beat frequency\n",
    "    K = int(Fs/(2*abs(f2-f1)))\n",
    "    S = s[K:]\n",
    "    # play the sound\n",
    "    display(Audio(data = s, rate = Fs))\n",
    "    # display one second of audio\n",
    "    plt.plot(s[0:int(Fs)])\n",
    "    "
   ]
  },
  {
   "cell_type": "code",
   "execution_count": 3,
   "metadata": {},
   "outputs": [
    {
     "data": {
      "application/vnd.jupyter.widget-view+json": {
       "model_id": "5661778f80f5454ca997929073899b43",
       "version_major": 2,
       "version_minor": 0
      },
      "text/plain": [
       "interactive(children=(FloatSlider(value=220.0, description='f1', max=300.0, min=200.0), FloatSlider(value=224.…"
      ]
     },
     "metadata": {},
     "output_type": "display_data"
    }
   ],
   "source": [
    "interact(beat_freq, f1 = (200.0, 300.0), f2 = (200.0, 300.0));"
   ]
  },
  {
   "cell_type": "code",
   "execution_count": null,
   "metadata": {},
   "outputs": [],
   "source": []
  }
 ],
 "metadata": {
  "kernelspec": {
   "display_name": "Python 3",
   "language": "python",
   "name": "python3"
  },
  "language_info": {
   "codemirror_mode": {
    "name": "ipython",
    "version": 3
   },
   "file_extension": ".py",
   "mimetype": "text/x-python",
   "name": "python",
   "nbconvert_exporter": "python",
   "pygments_lexer": "ipython3",
   "version": "3.7.6"
  }
 },
 "nbformat": 4,
 "nbformat_minor": 4
}

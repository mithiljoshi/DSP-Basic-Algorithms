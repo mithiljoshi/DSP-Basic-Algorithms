{
 "cells": [
  {
   "cell_type": "code",
   "execution_count": 1,
   "metadata": {},
   "outputs": [],
   "source": [
    "# usual python bookkeeping...\n",
    "%matplotlib inline\n",
    "import matplotlib\n",
    "import matplotlib.pyplot as plt\n",
    "import numpy as np\n",
    "import IPython\n",
    "from IPython.display import Image\n",
    "import math\n",
    "from PIL import Image\n"
   ]
  },
  {
   "cell_type": "code",
   "execution_count": 2,
   "metadata": {},
   "outputs": [
    {
     "data": {
      "text/plain": [
       "<Figure size 432x288 with 0 Axes>"
      ]
     },
     "metadata": {},
     "output_type": "display_data"
    }
   ],
   "source": [
    "#ensure all images will be greyscale\n",
    "plt.gray()"
   ]
  },
  {
   "cell_type": "code",
   "execution_count": 3,
   "metadata": {},
   "outputs": [
    {
     "data": {
      "text/plain": [
       "<matplotlib.image.AxesImage at 0x2a436d1dfc8>"
      ]
     },
     "execution_count": 3,
     "metadata": {},
     "output_type": "execute_result"
    },
    {
     "data": {
      "image/png": "[encoded data removed]",
      "text/plain": [
       "<Figure size 288x288 with 1 Axes>"
      ]
     },
     "metadata": {
      "needs_background": "light"
     },
     "output_type": "display_data"
    }
   ],
   "source": [
    "#lets create checkerboard pattern\n",
    "SIZE =4\n",
    "img = np.zeros((SIZE, SIZE))\n",
    "for n in range(0, SIZE):\n",
    "    for m in range(0, SIZE):\n",
    "        if (n & 0x1 )^(m & 0x1 ):\n",
    "            img[m,n] = 255\n",
    "plt.matshow(img)\n",
    "                "
   ]
  },
  {
   "cell_type": "code",
   "execution_count": 4,
   "metadata": {},
   "outputs": [
    {
     "data": {
      "text/plain": [
       "<matplotlib.image.AxesImage at 0x2a436e48808>"
      ]
     },
     "execution_count": 4,
     "metadata": {},
     "output_type": "execute_result"
    },
    {
     "data": {
      "image/png": "[encoded data removed]",
      "text/plain": [
       "<Figure size 288x288 with 1 Axes>"
      ]
     },
     "metadata": {
      "needs_background": "light"
     },
     "output_type": "display_data"
    }
   ],
   "source": [
    "img = plt.imread('Image2.jpeg')\n",
    "#plt.matshow(img)\n",
    "img= Image.open('Image2.jpeg').convert('LA')\n",
    "img = np.asarray(img)\n",
    "img = np.resize(img,(64,64))\n",
    "plt.matshow(img)"
   ]
  },
  {
   "cell_type": "code",
   "execution_count": 5,
   "metadata": {},
   "outputs": [],
   "source": [
    "def canonical(n, M =5, N =10):\n",
    "    e = np.zeros((M, N))\n",
    "    e[(n%M), int(n/M)]=1\n",
    "    return e\n"
   ]
  },
  {
   "cell_type": "code",
   "execution_count": 6,
   "metadata": {},
   "outputs": [
    {
     "data": {
      "image/png": "[encoded data removed]",
      "text/plain": [
       "<Figure size 576x288 with 1 Axes>"
      ]
     },
     "metadata": {
      "needs_background": "light"
     },
     "output_type": "display_data"
    }
   ],
   "source": [
    "plt.matshow(canonical(20));"
   ]
  },
  {
   "cell_type": "markdown",
   "metadata": {},
   "source": [
    "Transmitting images\n",
    "\n",
    "suppose we want to transmit the image over a communication channel. the intuitive way to do so is to send the pixel value one by one, which corresponds to sending the coefficients of the decomposition of image over the canonical basis. So far, nothing complicated to send the image for instance, we will send 64 x 64 = 4096 coefficients in a row\n",
    "\n",
    "suppose that a communication failure takes place after the first half pixels have been sent. the received data will allow us ti display an approximation of the original image only. if we replace the missing data with zeros, here is what we would see, which is not very pretty."
   ]
  },
  {
   "cell_type": "code",
   "execution_count": 7,
   "metadata": {
    "scrolled": true
   },
   "outputs": [
    {
     "data": {
      "text/plain": [
       "<matplotlib.image.AxesImage at 0x2a436f2ac88>"
      ]
     },
     "execution_count": 7,
     "metadata": {},
     "output_type": "execute_result"
    },
    {
     "data": {
      "image/png": "[encoded data removed]",
      "text/plain": [
       "<Figure size 288x288 with 1 Axes>"
      ]
     },
     "metadata": {
      "needs_background": "light"
     },
     "output_type": "display_data"
    }
   ],
   "source": [
    "#unrolling of image for transmission\n",
    "tx_img = np.ravel(img, 'F')\n",
    "\n",
    "#we lose half the data\n",
    "tx_img[int(len(tx_img)/2):]=0\n",
    "\n",
    "# rebuild matrix\n",
    "rx_img = np.reshape(tx_img,(64, 64), 'F')\n",
    "plt.matshow(rx_img)"
   ]
  },
  {
   "cell_type": "markdown",
   "metadata": {},
   "source": [
    "Can we come with a transmission scheme that is more robust in face of channel loss? Interestingly it involves a different, more versatile basis for space of images\n",
    "describe the Haar basis, a new basis for image soace\n",
    "project the image in the new basis\n",
    "transmit the projection coefficients\n",
    "rebuild the image using the basis vectors\n",
    "\n",
    "we know a few things: if we choose an orthonormal baiss, the analysis and synthesis formula will be super easy( a simple inner product and a scaar multiplication respectively). the trick is to find a basis that will be robust to the loss of some coefficients.\n",
    "\n",
    "we will keep things simple, we will remain in the space of a square matrices whose size is the power of two. the code to generate the Haar basis matrices is the following: first we generate a 1D Haar vector and then we obtain the basis matrices by taking the outer product of all possible 1D vectors"
   ]
  },
  {
   "cell_type": "code",
   "execution_count": 11,
   "metadata": {},
   "outputs": [],
   "source": [
    "def haar1D(n, SIZE):\n",
    "    #check power of two\n",
    "    if math.floor(math.log(SIZE)/math.log(2))!=math.log(SIZE)/math.log(2):\n",
    "        print(\"Haar defined only for lengths that are powers of two\")\n",
    "        return None\n",
    "    if n>=SIZE or n<0:\n",
    "        print(\"invalide Haar index\")\n",
    "        return None\n",
    "    #zero basis vector\n",
    "    if n==0:\n",
    "        return np.ones(SIZE)\n",
    "    #express n>1 as 2^p +q with p as large as possible\n",
    "    # then k= SIZE/2^p is the length of support\n",
    "    # s = qk is the shift\n",
    "    p = math.floor(math.log(n)/ math.log(2))\n",
    "    pp = int(pow(2,p))\n",
    "    k = SIZE/pp\n",
    "    s = (n-pp)*k\n",
    "    \n",
    "    h = np.zeros(SIZE)\n",
    "    h[int(s):int(s+k/2)]=1\n",
    "    h[int(s+k/2):int(s+k)]=-1\n",
    "    # these are not normalized\n",
    "    return h\n",
    "\n",
    "def haar2D(n , SIZE =8):\n",
    "    # get horizontal and vertical indices\n",
    "    hr = haar1D(n%SIZE, SIZE)\n",
    "    hv = haar1D(int(n/SIZE), SIZE)\n",
    "    # 2D haar basis matrix is separable, so we can\n",
    "    # just take the column row product\n",
    "    H = np.outer(hr, hv)\n",
    "    H = H/math.sqrt(np.sum(H*H))\n",
    "    return H\n",
    "                 \n"
   ]
  },
  {
   "cell_type": "markdown",
   "metadata": {},
   "source": [
    "first of all, lets look at a few basis matrices; note that the matrices have  positive and negative values, so that the value of zero will be represented as gray:"
   ]
  },
  {
   "cell_type": "code",
   "execution_count": 13,
   "metadata": {},
   "outputs": [
    {
     "data": {
      "image/png": "[encoded data removed]",
      "text/plain": [
       "<Figure size 288x288 with 1 Axes>"
      ]
     },
     "metadata": {
      "needs_background": "light"
     },
     "output_type": "display_data"
    },
    {
     "data": {
      "image/png": "[encoded data removed]",
      "text/plain": [
       "<Figure size 288x288 with 1 Axes>"
      ]
     },
     "metadata": {
      "needs_background": "light"
     },
     "output_type": "display_data"
    },
    {
     "data": {
      "image/png": "[encoded data removed]",
      "text/plain": [
       "<Figure size 288x288 with 1 Axes>"
      ]
     },
     "metadata": {
      "needs_background": "light"
     },
     "output_type": "display_data"
    },
    {
     "data": {
      "image/png": "[encoded data removed]",
      "text/plain": [
       "<Figure size 288x288 with 1 Axes>"
      ]
     },
     "metadata": {
      "needs_background": "light"
     },
     "output_type": "display_data"
    }
   ],
   "source": [
    "plt.matshow(haar2D(0));\n",
    "plt.matshow(haar2D(1));\n",
    "plt.matshow(haar2D(10));\n",
    "plt.matshow(haar2D(63));\n"
   ]
  },
  {
   "cell_type": "markdown",
   "metadata": {},
   "source": [
    "we notice two key properties\n",
    "\n",
    "each basis matrix has positive and negative values in some symmetric pattern; this means  that basis matrix will implicitly compute the difference between image areas\n",
    "\n",
    "low index basis matrices take differences between large areas, while high index ones take differences in smaller localized areas of image.\n",
    "\n",
    "we will immediately verify that Haar matrices are orthogonal\n"
   ]
  },
  {
   "cell_type": "code",
   "execution_count": 16,
   "metadata": {},
   "outputs": [
    {
     "name": "stdout",
     "output_type": "stream",
     "text": [
      "[0x0 -> 1.000000][1x1 -> 1.000000][2x2 -> 1.000000][3x3 -> 1.000000][4x4 -> 1.000000][5x5 -> 1.000000][6x6 -> 1.000000][7x7 -> 1.000000][8x8 -> 1.000000][9x9 -> 1.000000][10x10 -> 1.000000][11x11 -> 1.000000][12x12 -> 1.000000][13x13 -> 1.000000][14x14 -> 1.000000][15x15 -> 1.000000][16x16 -> 1.000000][16x17 -> -0.000000][17x16 -> -0.000000][17x17 -> 1.000000][18x18 -> 1.000000][19x19 -> 1.000000][20x20 -> 1.000000][21x21 -> 1.000000][22x22 -> 1.000000][23x23 -> 1.000000][24x24 -> 1.000000][24x25 -> -0.000000][25x24 -> -0.000000][25x25 -> 1.000000][26x26 -> 1.000000][27x27 -> 1.000000][28x28 -> 1.000000][29x29 -> 1.000000][30x30 -> 1.000000][31x31 -> 1.000000][32x32 -> 1.000000][33x33 -> 1.000000][34x34 -> 1.000000][35x35 -> 1.000000][36x36 -> 1.000000][37x37 -> 1.000000][38x38 -> 1.000000][39x39 -> 1.000000][40x40 -> 1.000000][41x41 -> 1.000000][42x42 -> 1.000000][43x43 -> 1.000000][44x44 -> 1.000000][45x45 -> 1.000000][46x46 -> 1.000000][47x47 -> 1.000000][48x48 -> 1.000000][49x49 -> 1.000000][50x50 -> 1.000000][51x51 -> 1.000000][52x52 -> 1.000000][53x53 -> 1.000000][54x54 -> 1.000000][55x55 -> 1.000000][56x56 -> 1.000000][57x57 -> 1.000000][58x58 -> 1.000000][59x59 -> 1.000000][60x60 -> 1.000000][61x61 -> 1.000000][62x62 -> 1.000000][63x63 -> 1.000000]"
     ]
    }
   ],
   "source": [
    "#lets use an 8x8 space; there will be 64 basis vectors\n",
    "#compute all possible inner product and print the nonzeros\n",
    "for m in range(0,64):\n",
    "    for n in range(0,64):\n",
    "        r = np.sum(haar2D(m,8)*haar2D(n, 8))\n",
    "        if r!=0:\n",
    "            print(\"[%dx%d -> %f]\" %(m,n,r), end =\"\")"
   ]
  },
  {
   "cell_type": "code",
   "execution_count": 17,
   "metadata": {},
   "outputs": [
    {
     "data": {
      "image/png": "[encoded data removed]",
      "text/plain": [
       "<Figure size 288x288 with 1 Axes>"
      ]
     },
     "metadata": {
      "needs_background": "light"
     },
     "output_type": "display_data"
    }
   ],
   "source": [
    "# project the image onto the Haar basis, obtaining a vector of 4096 coefficients\n",
    "# this is simply the analysis formula for the vector space with an orthogonal basis\n",
    "tx_img = np.zeros(64*64)\n",
    "for k in range(0, (64*64)):\n",
    "    tx_img[k] = np.sum(img * haar2D(k, 64))\n",
    "\n",
    "# now rebuild the image with the synthesis formula; since the basis is orthonormal\n",
    "#  we just need to scale the basis matrices by the projection coefficients\n",
    "rx_img = np.zeros((64, 64))\n",
    "for k in range(0, (64*64)):\n",
    "    rx_img += tx_img[k] * haar2D(k, 64)\n",
    "\n",
    "plt.matshow(rx_img);"
   ]
  },
  {
   "cell_type": "markdown",
   "metadata": {},
   "source": [
    "That's quite remarkable, no? We've lost the same amount of information as before but the image is still acceptable. This is because we lost the coefficients associated to the fine details of the image but we retained the \"broad strokes\" encoded by the first half.\n",
    "\n",
    "Note that if we lose the first half of the coefficients the result is markedly different:"
   ]
  },
  {
   "cell_type": "code",
   "execution_count": 18,
   "metadata": {},
   "outputs": [
    {
     "data": {
      "image/png": "[encoded data removed]",
      "text/plain": [
       "<Figure size 288x288 with 1 Axes>"
      ]
     },
     "metadata": {
      "needs_background": "light"
     },
     "output_type": "display_data"
    }
   ],
   "source": [
    "lossy_img = np.copy(tx_img);\n",
    "lossy_img[0:int(len(tx_img)/2)] = 0\n",
    "\n",
    "rx_img = np.zeros((64, 64))\n",
    "for k in range(0, (64*64)):\n",
    "    rx_img += lossy_img[k] * haar2D(k, 64)\n",
    "\n",
    "plt.matshow(rx_img);"
   ]
  },
  {
   "cell_type": "markdown",
   "metadata": {},
   "source": [
    "In fact, schemes like this one are used in progressive encoding: send the most important information first and add details if the channel permits it. You may have experienced this while browsing the interned over a slow connection.\n",
    "\n",
    "All in all, a great application of a change of basis!"
   ]
  },
  {
   "cell_type": "code",
   "execution_count": null,
   "metadata": {},
   "outputs": [],
   "source": []
  }
 ],
 "metadata": {
  "kernelspec": {
   "display_name": "Python 3",
   "language": "python",
   "name": "python3"
  },
  "language_info": {
   "codemirror_mode": {
    "name": "ipython",
    "version": 3
   },
   "file_extension": ".py",
   "mimetype": "text/x-python",
   "name": "python",
   "nbconvert_exporter": "python",
   "pygments_lexer": "ipython3",
   "version": "3.7.6"
  }
 },
 "nbformat": 4,
 "nbformat_minor": 4
}
